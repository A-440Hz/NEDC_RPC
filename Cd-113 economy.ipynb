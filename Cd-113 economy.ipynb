{
 "cells": [
  {
   "cell_type": "code",
   "execution_count": 217,
   "metadata": {
    "collapsed": true
   },
   "outputs": [],
   "source": [
    "#Author: Tyler Bailey\n",
    "#Will add a .py file as well later"
   ]
  },
  {
   "cell_type": "code",
   "execution_count": 218,
   "metadata": {
    "collapsed": true
   },
   "outputs": [],
   "source": [
    "#README\n",
    "#This is a simple script that takes into account the high neutron capture economy of Cd-113\n",
    "#We are assuming that the loss of Cd-112 is pretty much small negiligble \n",
    "#Main assumptions: \n",
    "#we are only assuming natural Cd\n",
    "#we are only taking account of Cd-112 and Cd-113\n",
    "#Cd-112 has an abundance of 24.11 at%\n",
    "#Cd-113 has an abundance of 12.23 at%\n",
    "#For now we want the metal to have > 10.00 at% Cd-113; This is arbitrary"
   ]
  },
  {
   "cell_type": "code",
   "execution_count": 219,
   "metadata": {
    "collapsed": true
   },
   "outputs": [],
   "source": [
    "import numpy as np\n",
    "%matplotlib inline\n",
    "import matplotlib.pyplot as plt"
   ]
  },
  {
   "cell_type": "code",
   "execution_count": 220,
   "metadata": {
    "collapsed": false
   },
   "outputs": [],
   "source": [
    "#The majority of this data was extracted from https://www-nds.iaea.org/exfor/endf.htm \n",
    "#Units are CGS\n",
    "density = 8.65\n",
    "moles_per_volume = 8.65/112.411\n",
    "atoms_per_volume = moles_per_volume*6.02*10**23\n",
    "cd_112 = atoms_per_volume*.2411 #intital amount of Cd-112; this can produce the neutron absorber Cd-113\n",
    "cd_113 = atoms_per_volume*.1223 #initial amount of Cd-113; this what we are concerned with\n",
    "sigma_112 = 10 * 10**-24\n",
    "sigma_113 = 10**5 * 10**-24\n",
    "flux = 10**9"
   ]
  },
  {
   "cell_type": "code",
   "execution_count": 226,
   "metadata": {
    "collapsed": false
   },
   "outputs": [
    {
     "name": "stdout",
     "output_type": "stream",
     "text": [
      "starting amount of Cd 113\n",
      "3.4280398822590964e+21\n",
      "10% of Cd 113\n",
      "4.6323758351051055e+21\n"
     ]
    }
   ],
   "source": [
    "#This only computes and prints our start amount of Cd-113 and our end amount of Cd-113 \n",
    "print('starting amount of Cd 113')\n",
    "print(cd_113)\n",
    "print('10% of Cd 113')\n",
    "print(atoms_per_volume*.1)\n"
   ]
  },
  {
   "cell_type": "code",
   "execution_count": 222,
   "metadata": {
    "collapsed": false
   },
   "outputs": [],
   "source": [
    "\n",
    "def main(cd_112, cd_113, t=10**8):\n",
    "    '''\n",
    "    Main function\n",
    "    This computes the the neutron+target reaction rate for both isotopes\n",
    "    negative rate is a loss while postive rate is a gain\n",
    "    This is discretized with time intervals of .1 gigaseconds\n",
    "    x is the amount of Cd-113 atoms used up after an interval\n",
    "    z is the amount of Cd-112 atoms that remain after an interval\n",
    "    y is the amount of Cd-113 atoms that remain after an interval\n",
    "    this only returns z and y\n",
    "    \n",
    "    '''\n",
    "    rate_112 = sigma_112*cd_112*flux\n",
    "    rate_113 = sigma_113*cd_113*flux\n",
    "    net_rate = rate_112 - rate_113\n",
    "    x = net_rate * t\n",
    "    z = cd_112 - (rate_112*t)\n",
    "    y = cd_113 + x\n",
    "    return z, y\n",
    "\n",
    "\n",
    "\n",
    "    "
   ]
  },
  {
   "cell_type": "code",
   "execution_count": 223,
   "metadata": {
    "collapsed": false
   },
   "outputs": [],
   "source": [
    "#graph preparation. Time from t=0s to t=.5*10^11s with time interval 10**8s\n",
    "cd_112_lst = []\n",
    "cd_113_lst = []\n",
    "time = []\n",
    "time.append(0)\n",
    "cd_112_lst.append(cd_112)\n",
    "cd_113_lst.append(cd_113)\n",
    "i = 10**8\n",
    "while i <= .05*10**11:\n",
    "    time.append(i)\n",
    "    i+=10**8\n"
   ]
  },
  {
   "cell_type": "code",
   "execution_count": 224,
   "metadata": {
    "collapsed": true
   },
   "outputs": [],
   "source": [
    "#more graph preparation\n",
    "i = 0\n",
    "while i < len(time)-1:\n",
    "    cd_112, cd_113 = main(cd_112, cd_113)\n",
    "    cd_112_lst.append(cd_112)\n",
    "    cd_113_lst.append(cd_113)\n",
    "    i+=1\n"
   ]
  },
  {
   "cell_type": "code",
   "execution_count": 233,
   "metadata": {
    "collapsed": false
   },
   "outputs": [
    {
     "data": {
      "image/png": "[encoded data removed]",
      "text/plain": [
       "<matplotlib.figure.Figure at 0x4cd7c518>"
      ]
     },
     "metadata": {},
     "output_type": "display_data"
    }
   ],
   "source": [
    "#graph. The intersection is an estimated lifetime\n",
    "horizontal = []\n",
    "i = 0\n",
    "while i < 51:\n",
    "    horizontal.append(4.6*10**21)\n",
    "    i+=1\n",
    "plt.plot(time, horizontal)\n",
    "\n",
    "plt.plot(time, cd_113_lst)\n",
    "plt.xlabel('Time elapsed (s)')\n",
    "\n",
    "plt.ylabel('Number of Strong Absorber isotopes left (cm^-3)')\n",
    "\n",
    "plt.show()"
   ]
  }
 ],
 "metadata": {
  "kernelspec": {
   "display_name": "Python 3",
   "language": "python",
   "name": "python3"
  },
  "language_info": {
   "codemirror_mode": {
    "name": "ipython",
    "version": 3
   },
   "file_extension": ".py",
   "mimetype": "text/x-python",
   "name": "python",
   "nbconvert_exporter": "python",
   "pygments_lexer": "ipython3",
   "version": "3.4.3"
  }
 },
 "nbformat": 4,
 "nbformat_minor": 0
}
